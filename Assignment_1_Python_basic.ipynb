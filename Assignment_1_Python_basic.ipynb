{
  "cells": [
    {
      "cell_type": "markdown",
      "id": "b01d8277",
      "metadata": {
        "id": "b01d8277"
      },
      "source": [
        "[![Open In Colab](https://colab.research.google.com/assets/colab-badge.svg)](https://colab.research.google.com/github/Nepal-College-of-Information-Technology/AI-Data-Science-Worksop-2024/blob/main/Practice%20Yourself/Assignment_1_Python_basic.ipynb)"
      ]
    },
    {
      "cell_type": "markdown",
      "id": "b731f5b3",
      "metadata": {
        "id": "b731f5b3"
      },
      "source": [
        "\n",
        "# Assignment 1: Python Basics\n",
        "\n",
        "This assignment consists of three simple questions, three medium-level questions, and four more challenging (optional) questions. Please attempt the first six questions, and try the optional questions if you feel confident.\n",
        "\n",
        "### Instructions:\n",
        "- Each question is followed by a code cell. Write your solution in the provided space.\n",
        "- For optional questions, you can attempt them if you want extra practice.\n",
        "\n",
        "---\n",
        "\n",
        "## Simple Questions:\n",
        "    "
      ]
    },
    {
      "cell_type": "markdown",
      "id": "8b0ce127",
      "metadata": {
        "id": "8b0ce127"
      },
      "source": [
        "\n",
        "### 1. Print \"Hello, Python!\"\n",
        "\n",
        "**Hint**: Use the `print()` function to display text.\n",
        "    "
      ]
    },
    {
      "cell_type": "code",
      "execution_count": 3,
      "id": "9981874e",
      "metadata": {
        "id": "9981874e",
        "outputId": "cd940dd5-f587-4550-aae3-6a73db54fd80",
        "colab": {
          "base_uri": "https://localhost:8080/"
        }
      },
      "outputs": [
        {
          "output_type": "stream",
          "name": "stdout",
          "text": [
            "Hello,Python\n"
          ]
        }
      ],
      "source": [
        "print(\"Hello,Python\")"
      ]
    },
    {
      "cell_type": "markdown",
      "id": "a4f64b9b",
      "metadata": {
        "id": "a4f64b9b"
      },
      "source": [
        "\n",
        "### 2. Define two variables: one integer and one string. Print them together in a single sentence.\n",
        "\n",
        "**Hint**: Use `print()` and string concatenation or formatted strings.    "
      ]
    },
    {
      "cell_type": "code",
      "execution_count": 9,
      "id": "3b374cac",
      "metadata": {
        "id": "3b374cac",
        "outputId": "e0b6e32f-727d-4a8e-ae71-e1dbb9e33728",
        "colab": {
          "base_uri": "https://localhost:8080/"
        }
      },
      "outputs": [
        {
          "output_type": "stream",
          "name": "stdout",
          "text": [
            "i am19years old.\n"
          ]
        }
      ],
      "source": [
        "age=19\n",
        "x=\"i am\" +str(age) +\"years old.\"\n",
        "print (x)"
      ]
    },
    {
      "cell_type": "markdown",
      "id": "3ed1d351",
      "metadata": {
        "id": "3ed1d351"
      },
      "source": [
        "\n",
        "### 3. Create a list of 5 numbers. Print the sum of the numbers.\n",
        "\n",
        "**Hint**: Use the `sum()` function.\n"
      ]
    },
    {
      "cell_type": "code",
      "execution_count": 10,
      "id": "32a7486d",
      "metadata": {
        "id": "32a7486d",
        "outputId": "2a0510c7-4a2a-40b0-cef6-3317d3a025b9",
        "colab": {
          "base_uri": "https://localhost:8080/"
        }
      },
      "outputs": [
        {
          "output_type": "execute_result",
          "data": {
            "text/plain": [
              "15"
            ]
          },
          "metadata": {},
          "execution_count": 10
        }
      ],
      "source": [
        "x=(1,2,3,4,5,)\n",
        "sum(x)"
      ]
    },
    {
      "cell_type": "markdown",
      "id": "a3ade1a0",
      "metadata": {
        "id": "a3ade1a0"
      },
      "source": [
        "\n",
        "---\n",
        "\n",
        "## Medium-Level Questions:\n",
        "    "
      ]
    },
    {
      "cell_type": "markdown",
      "id": "01a6f9ee",
      "metadata": {
        "id": "01a6f9ee"
      },
      "source": [
        "\n",
        "### 4. Write a function that takes two numbers and returns their product.\n",
        "\n",
        "**Hint**: Use the `def` keyword to define a function, and use the `return` statement to return the result.\n",
        "\n",
        "    "
      ]
    },
    {
      "cell_type": "code",
      "execution_count": 20,
      "id": "83a4861a",
      "metadata": {
        "id": "83a4861a",
        "outputId": "6bee7cb4-13a4-4725-ce5a-a5899be61360",
        "colab": {
          "base_uri": "https://localhost:8080/"
        }
      },
      "outputs": [
        {
          "name": "stdout",
          "output_type": "stream",
          "text": [
            "enter the first number20\n",
            "enter the second number20\n"
          ]
        },
        {
          "output_type": "execute_result",
          "data": {
            "text/plain": [
              "400"
            ]
          },
          "metadata": {},
          "execution_count": 20
        }
      ],
      "source": [
        "def main():\n",
        "    num1=int(input('enter the first number'))\n",
        "    num2=int(input('enter the second number'))\n",
        "    return num1*num2\n",
        "    x(n1,n2)\n",
        "    print(x)\n",
        "def x(n1,n2):\n",
        "    return x\n",
        "main()\n",
        "\n"
      ]
    },
    {
      "cell_type": "markdown",
      "id": "f981eef5",
      "metadata": {
        "id": "f981eef5"
      },
      "source": [
        "\n",
        "### 5. Use a `for` loop to print the numbers from 1 to 10.\n",
        "\n",
        "**Hint**: Use the `range()` function to generate the numbers.\n",
        "\n",
        "\n",
        "    "
      ]
    },
    {
      "cell_type": "code",
      "execution_count": 23,
      "id": "d7c96f4a",
      "metadata": {
        "id": "d7c96f4a",
        "outputId": "642e3570-f953-43fb-ca87-19e7f88843cf",
        "colab": {
          "base_uri": "https://localhost:8080/"
        }
      },
      "outputs": [
        {
          "output_type": "stream",
          "name": "stdout",
          "text": [
            "1\n",
            "2\n",
            "3\n",
            "4\n",
            "5\n",
            "6\n",
            "7\n",
            "8\n",
            "9\n",
            "10\n"
          ]
        }
      ],
      "source": [
        "for i in range(1,11):\n",
        "  print(i)\n",
        ""
      ]
    },
    {
      "cell_type": "markdown",
      "id": "f813fcc9",
      "metadata": {
        "id": "f813fcc9"
      },
      "source": [
        "\n",
        "### 6. Write a function that checks if a number is prime.\n",
        "\n",
        "**Hint**: A prime number is a number greater than 1 that has no divisors other than 1 and itself.\n",
        "\n",
        "    "
      ]
    },
    {
      "cell_type": "code",
      "source": [
        "def is_prime(num):\n",
        "    if num <= 1:\n",
        "        return False\n",
        "    for i in range(2, int(num**0.5) + 1):\n",
        "        if num % i == 0:\n",
        "            return False\n",
        "    return True\n",
        "\n",
        "number = int(input(\"Enter a number: \"))\n",
        "if is_prime(number):\n",
        "    print(f\"{number} is a prime number.\")\n",
        "else:\n",
        "    print(f\"{number} is not a prime number.\")\n",
        "\n",
        "\n",
        "\n",
        "\n"
      ],
      "metadata": {
        "id": "MEi2UbEKURjf",
        "outputId": "76889e01-1259-4643-a55c-ef9061d8bc7f",
        "colab": {
          "base_uri": "https://localhost:8080/"
        }
      },
      "id": "MEi2UbEKURjf",
      "execution_count": 42,
      "outputs": [
        {
          "output_type": "stream",
          "name": "stdout",
          "text": [
            "Enter a number: 12\n",
            "12 is not a prime number.\n"
          ]
        }
      ]
    },
    {
      "cell_type": "markdown",
      "id": "54b82acb",
      "metadata": {
        "id": "54b82acb"
      },
      "source": [
        "\n",
        "---\n",
        "\n",
        "## Optional (More Challenging) Questions:\n",
        "    "
      ]
    },
    {
      "cell_type": "markdown",
      "id": "8471b0dc",
      "metadata": {
        "id": "8471b0dc"
      },
      "source": [
        "\n",
        "### 7. Write a program that reverses a string provided by the user.\n",
        "\n",
        "**Hint**: You can reverse a string by slicing with a negative step `[::-1]`.\n",
        "    "
      ]
    },
    {
      "cell_type": "code",
      "execution_count": 45,
      "id": "5514ec5a",
      "metadata": {
        "id": "5514ec5a",
        "outputId": "19f17e3b-9090-4297-8ca9-af5c39b29b89",
        "colab": {
          "base_uri": "https://localhost:8080/"
        }
      },
      "outputs": [
        {
          "output_type": "stream",
          "name": "stdout",
          "text": [
            "htrae elddim ni lufrewop tsom si noruaS\n"
          ]
        }
      ],
      "source": [
        "def my_function(x):\n",
        "  return x[::-1]\n",
        "\n",
        "mytxt = my_function(\"Sauron is most powerful in middle earth\")\n",
        "\n",
        "print(mytxt)"
      ]
    },
    {
      "cell_type": "markdown",
      "id": "530509e0",
      "metadata": {
        "id": "530509e0"
      },
      "source": [
        "\n",
        "### 8. Create a program that finds the factorial of a number.\n",
        "\n",
        "**Hint**: The factorial of `n` is the product of all positive integers less than or equal to `n`. You can use a loop or recursion to solve this.\n",
        "\n",
        "    "
      ]
    },
    {
      "cell_type": "code",
      "execution_count": 50,
      "id": "0c791a7e",
      "metadata": {
        "id": "0c791a7e",
        "outputId": "17471113-87fd-482d-b0de-83ad872331d5",
        "colab": {
          "base_uri": "https://localhost:8080/"
        }
      },
      "outputs": [
        {
          "output_type": "stream",
          "name": "stdout",
          "text": [
            "The factorial of 99 is 933262154439441526816992388562667004907159682643816214685929638952175999932299156089414639761565182862536979208272237582511852109168640000000000000000000000\n"
          ]
        }
      ],
      "source": [
        "num = 99\n",
        "factorial = 1\n",
        "if num < 0:\n",
        "   print(\"Sorry, factorial does not exist for negative numbers\")\n",
        "elif num == 0:\n",
        "   print(\"The factorial of 0 is 1\")\n",
        "else:\n",
        "   for i in range(1,num + 1):\n",
        "       factorial = factorial*i\n",
        "   print(\"The factorial of\",num,\"is\",factorial)"
      ]
    },
    {
      "cell_type": "markdown",
      "id": "525b8911",
      "metadata": {
        "id": "525b8911"
      },
      "source": [
        "\n",
        "### 9. Write a function to calculate the Fibonacci sequence up to a given number.\n",
        "\n",
        "**Hint**: Each number in the sequence is the sum of the two preceding ones, starting from 0 and 1.\n",
        "\n",
        "\n",
        "    "
      ]
    },
    {
      "cell_type": "code",
      "execution_count": 51,
      "id": "de48a240",
      "metadata": {
        "id": "de48a240",
        "outputId": "77830321-2910-4658-cb91-034fdafe3624",
        "colab": {
          "base_uri": "https://localhost:8080/"
        }
      },
      "outputs": [
        {
          "output_type": "stream",
          "name": "stdout",
          "text": [
            "Input a number to print sequence up to: 100\n",
            "[1, 2, 3, 5, 8, 13, 21, 34, 55, 89, 144]\n"
          ]
        }
      ],
      "source": [
        "def fibonacci(n):\n",
        "    n = int(n)\n",
        "\n",
        "    def fibon(a,b,n,result):\n",
        "        c = a+b\n",
        "        result.append(c)\n",
        "        if c < n:\n",
        "            fibon(b,c,n,result)\n",
        "        return result\n",
        "\n",
        "    return fibon(0,1,n,[])\n",
        "\n",
        "print(fibonacci(input(\"Input a number to print sequence up to: \")))"
      ]
    },
    {
      "cell_type": "markdown",
      "id": "7aab01a3",
      "metadata": {
        "id": "7aab01a3"
      },
      "source": [
        "\n",
        "### 10. Find the largest number in a list without using the `max()` function.\n",
        "\n",
        "**Hint**: Use a loop to compare each element of the list and keep track of the largest value.\n",
        "\n",
        "    "
      ]
    },
    {
      "cell_type": "code",
      "execution_count": 54,
      "id": "180659db",
      "metadata": {
        "id": "180659db",
        "outputId": "93ad6f2c-5c4b-471b-db68-d90f91e7ee7a",
        "colab": {
          "base_uri": "https://localhost:8080/"
        }
      },
      "outputs": [
        {
          "output_type": "stream",
          "name": "stdout",
          "text": [
            "888\n"
          ]
        }
      ],
      "source": [
        "my_list = [11,22,33,44,55,888]\n",
        "\n",
        "max_value = my_list[0]\n",
        "\n",
        "for val in my_list:\n",
        "    if val > max_value:\n",
        "        max_value = val\n",
        "\n",
        "print(max_value)\n"
      ]
    },
    {
      "cell_type": "code",
      "source": [],
      "metadata": {
        "id": "6jeOm83FkNn-"
      },
      "id": "6jeOm83FkNn-",
      "execution_count": null,
      "outputs": []
    }
  ],
  "metadata": {
    "kernelspec": {
      "display_name": "base",
      "language": "python",
      "name": "python3"
    },
    "language_info": {
      "codemirror_mode": {
        "name": "ipython",
        "version": 3
      },
      "file_extension": ".py",
      "mimetype": "text/x-python",
      "name": "python",
      "nbconvert_exporter": "python",
      "pygments_lexer": "ipython3",
      "version": "3.10.6"
    },
    "colab": {
      "provenance": []
    }
  },
  "nbformat": 4,
  "nbformat_minor": 5
}